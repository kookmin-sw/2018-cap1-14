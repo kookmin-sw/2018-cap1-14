{
 "cells": [
  {
   "cell_type": "code",
   "execution_count": 3,
   "metadata": {},
   "outputs": [],
   "source": [
    "from __future__ import absolute_import\n",
    "\n",
    "from pytube import YouTube\n",
    "from scipy.io import wavfile\n",
    "import subprocess"
   ]
  },
  {
   "cell_type": "code",
   "execution_count": 4,
   "metadata": {},
   "outputs": [],
   "source": [
    "class WaveConvertor(object):\n",
    "    def get_wave(self, youtube_url):\n",
    "        '''\n",
    "        return wave data extracted from youtube url\n",
    "        parameters -\n",
    "            youtube_url : str\n",
    "                Address of youtube\n",
    "        returns -\n",
    "            rate : int\n",
    "                rate of wave\n",
    "            data : numpy.ndarray\n",
    "                sequencial data of wave \n",
    "        '''\n",
    "        filename = \"test\"\n",
    "        self.__download_mp4_from_youtube_url(youtube_url, filename)\n",
    "        self.__convert_mp4_to_wav(filename)\n",
    "        return self.__read_wav(filename)\n",
    "    def __download_mp4_from_youtube_url(self, youtube_url, filename):\n",
    "        '''\n",
    "        private method\n",
    "        create mp4 file downloaded from youtube url\n",
    "        paramters -\n",
    "            youtube_url : str\n",
    "                Address of youtube\n",
    "            filename : str\n",
    "                file name to create\n",
    "        '''\n",
    "        print(\"download start\")\n",
    "        YouTube(youtube_url).streams.first().download(filename=filename)\n",
    "        print(\"download finished\")\n",
    "    def __convert_mp4_to_wav(self, filename):\n",
    "        '''\n",
    "        private method\n",
    "        convert mp4 file to wav file using subprocess call - ffmpeg\n",
    "        parameters -\n",
    "            filename : str\n",
    "                file name to convert\n",
    "        '''\n",
    "        subprocess.call([\"ffmpeg\", \"-i\", filename + \".mp4\", filename + \".wav\"])\n",
    "        print(\"converted mp4 to wav\")\n",
    "    def __read_wav(self, filename):\n",
    "        '''\n",
    "        private method\n",
    "        read wav file and return\n",
    "        parameters -\n",
    "            filename : str\n",
    "                file name to read\n",
    "        returns -\n",
    "            rate : int\n",
    "                rate of wave\n",
    "            data : numpy.ndarray\n",
    "                sequencial data of wave \n",
    "        '''\n",
    "        rate, data = wavfile.read(filename + \".wav\")\n",
    "        print(\"read wav file\")\n",
    "        return rate, data"
   ]
  },
  {
   "cell_type": "code",
   "execution_count": null,
   "metadata": {},
   "outputs": [],
   "source": []
  }
 ],
 "metadata": {
  "kernelspec": {
   "display_name": "Python 3",
   "language": "python",
   "name": "python3"
  },
  "language_info": {
   "codemirror_mode": {
    "name": "ipython",
    "version": 3
   },
   "file_extension": ".py",
   "mimetype": "text/x-python",
   "name": "python",
   "nbconvert_exporter": "python",
   "pygments_lexer": "ipython3",
   "version": "3.6.4"
  }
 },
 "nbformat": 4,
 "nbformat_minor": 2
}
