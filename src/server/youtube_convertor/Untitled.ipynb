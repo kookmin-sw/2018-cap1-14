{
 "cells": [
  {
   "cell_type": "code",
   "execution_count": 1,
   "metadata": {},
   "outputs": [],
   "source": [
    "a = \"abc\""
   ]
  },
  {
   "cell_type": "code",
   "execution_count": 2,
   "metadata": {},
   "outputs": [],
   "source": [
    "b = \"abc\""
   ]
  },
  {
   "cell_type": "code",
   "execution_count": 3,
   "metadata": {},
   "outputs": [
    {
     "data": {
      "text/plain": [
       "True"
      ]
     },
     "execution_count": 3,
     "metadata": {},
     "output_type": "execute_result"
    }
   ],
   "source": [
    "a == b"
   ]
  },
  {
   "cell_type": "code",
   "execution_count": 4,
   "metadata": {},
   "outputs": [
    {
     "ename": "NameError",
     "evalue": "name 'eq' is not defined",
     "output_type": "error",
     "traceback": [
      "\u001b[0;31m---------------------------------------------------------------------------\u001b[0m",
      "\u001b[0;31mNameError\u001b[0m                                 Traceback (most recent call last)",
      "\u001b[0;32m<ipython-input-4-265966226d73>\u001b[0m in \u001b[0;36m<module>\u001b[0;34m()\u001b[0m\n\u001b[0;32m----> 1\u001b[0;31m \u001b[0meq\u001b[0m\u001b[0;34m(\u001b[0m\u001b[0ma\u001b[0m\u001b[0;34m,\u001b[0m \u001b[0mb\u001b[0m\u001b[0;34m)\u001b[0m\u001b[0;34m\u001b[0m\u001b[0m\n\u001b[0m",
      "\u001b[0;31mNameError\u001b[0m: name 'eq' is not defined"
     ]
    }
   ],
   "source": [
    "eq(a, b)"
   ]
  },
  {
   "cell_type": "code",
   "execution_count": 5,
   "metadata": {},
   "outputs": [],
   "source": [
    "c = \"ab\""
   ]
  },
  {
   "cell_type": "code",
   "execution_count": 6,
   "metadata": {},
   "outputs": [
    {
     "data": {
      "text/plain": [
       "False"
      ]
     },
     "execution_count": 6,
     "metadata": {},
     "output_type": "execute_result"
    }
   ],
   "source": [
    "a == c"
   ]
  },
  {
   "cell_type": "code",
   "execution_count": 7,
   "metadata": {},
   "outputs": [],
   "source": [
    "def convert(notes):\n",
    "    '''\n",
    "    covert note array to Music xml\n",
    "    parameters -\n",
    "        notes : list<string>\n",
    "            array of note, ex({\"C3\", \"D3\", \"E3\", \"F3\", \"G3\", \"A3\", \"B3\"})\n",
    "    returns -\n",
    "        xml : str\n",
    "            xml string typed by music xml \n",
    "    '''\n",
    "    header = ('<?xml version=\"1.0\" encoding=\"UTF-8\" standalone=\"no\"?>\\n' + \n",
    "              '<!DOCTYPE score-partwise PUBLIC\\n' +\n",
    "                '\"-//Recordare//DTD MusicXML 3.0 Partwise//EN\"\\n' +\n",
    "                '\"http://www.musicxml.org/dtds/partwise.dtd\">\\n' +\n",
    "              '<score-partwise version=\"3.0\">\\n' +\n",
    "                  '<part-list>\\n' +\n",
    "                    '<score-part id=\"P1\">\\n' +\n",
    "                      '<part-name>Music</part-name>\\n' +\n",
    "                    '</score-part>\\n' +\n",
    "                  '</part-list>\\n' +\n",
    "                  '<part id=\"P1\">\\n' +\n",
    "                    '<measure number=\"1\">\\n' +\n",
    "                      '<attributes>\\n' +\n",
    "                        '<divisions>4</divisions>\\n' +\n",
    "                        '<key>\\n' +\n",
    "                          '<fifths>0</fifths>\\n' +\n",
    "                        '</key>\\n' +\n",
    "                        '<time>\\n' +\n",
    "                          '<beats>4</beats>\\n' +\n",
    "                          '<beat-type>4</beat-type>\\n' +\n",
    "                        '</time>\\n' +\n",
    "                        '<clef>\\n' +\n",
    "                          '<sign>G</sign>\\n' +\n",
    "                          '<line>2</line>\\n' +\n",
    "                        '</clef>\\n' +\n",
    "                      '</attributes>\\n')\n",
    "\n",
    "    footer = ('</measure>\\n' + \n",
    "            '</part>\\n' + \n",
    "        '</score-partwise>\"')\n",
    "\n",
    "    notes_xml = \"\"\n",
    "\n",
    "    m_number = 1\n",
    "    duration = 0\n",
    "    all_duration = 0\n",
    "    beam = 0\n",
    "\n",
    "    starting = True\n",
    "    measuring = False\n",
    "\n",
    "    before_duration = 0\n",
    "    before_note = \"_\"\n",
    "    for note in notes:\n",
    "        if all_duration > 16:\n",
    "            all_duration = 0\n",
    "\n",
    "            if len(before_note) > 1:\n",
    "                steb = before_note[0]\n",
    "                octave = before_note[1]\n",
    "                note_xml = ('<note>\\n' +\n",
    "                                '<pitch>\\n' +\n",
    "                                    '<step>' + steb + '</step>\\n' +\n",
    "                                    '<octave>' + str(int(octave) + 1) + '</octave>\\n' +\n",
    "                                '</pitch>\\n' +\n",
    "                                '<duration>' + str(duration) + '</duration>\\n' +\n",
    "                                '<type>whole</type>\\n')\n",
    "\n",
    "                note_xml_beam = ''\n",
    "                if (duration > 0) and (duration < 3) and (duration == before_duration):\n",
    "                    if beam == 0:\n",
    "                        note_xml_beam += ('<beam number=\"1\">begin</beam>')\n",
    "                        if duration < 2:\n",
    "                            note_xml_beam += ('<beam number=\"2\">begin</beam>')\n",
    "                    else:\n",
    "                        note_xml_beam += ('<beam number=\"1\">continue</beam>')\n",
    "                        if duration < 2:\n",
    "                            note_xml_beam += ('<beam number=\"2\">continue</beam>')\n",
    "                    beam += 1\n",
    "                elif (beam > 0) and (duration < 3) and (duration > 0):\n",
    "                    note_xml_beam += ('<beam number=\"1\">end</beam>')\n",
    "                    if duration < 2:\n",
    "                        note_xml_beam += ('<beam number=\"2\">end</beam>')\n",
    "                    beam = 0\n",
    "                    before_duration = duration\n",
    "\n",
    "                note_xml_end = ('</note>\\n')\n",
    "\n",
    "                note_xml += note_xml_beam\n",
    "                note_xml += note_xml_end\n",
    "\n",
    "                notes_xml += note_xml\n",
    "\n",
    "            duration = 1\n",
    "            measuring = True\n",
    "\n",
    "        #duration check\n",
    "        if (before_note == note):\n",
    "            all_duration += 1\n",
    "            duration += 1\n",
    "        else:\n",
    "            if starting:\n",
    "                starting = False\n",
    "            else:\n",
    "                if len(before_note) > 1:\n",
    "                    steb = before_note[0]\n",
    "                    octave = before_note[1]\n",
    "                    note_xml = ('<note>\\n' +\n",
    "                                    '<pitch>\\n' +\n",
    "                                        '<step>' + steb + '</step>\\n' +\n",
    "                                        '<octave>' + str(int(octave) + 1) + '</octave>\\n' +\n",
    "                                    '</pitch>\\n' +\n",
    "                                    '<duration>' + str(duration) + '</duration>\\n' +\n",
    "                                    '<type>whole</type>\\n')\n",
    "\n",
    "                    note_xml_beam = ''\n",
    "                    if (duration > 0) and (duration < 3) and (duration == before_duration) and not measuring:\n",
    "                        if beam == 0:\n",
    "                            note_xml_beam += ('<beam number=\"1\">begin</beam>')\n",
    "                            if duration < 2:\n",
    "                                note_xml_beam += ('<beam number=\"2\">begin</beam>')\n",
    "                        else:\n",
    "                            note_xml_beam += ('<beam number=\"1\">continue</beam>')\n",
    "                            if duration < 2:\n",
    "                                note_xml_beam += ('<beam number=\"2\">continue</beam>')\n",
    "                        beam += 1\n",
    "                    elif (beam > 0) and (duration < 3) and (duration > 0):\n",
    "                        note_xml_beam += ('<beam number=\"1\">end</beam>')\n",
    "                        if duration < 2:\n",
    "                            note_xml_beam += ('<beam number=\"2\">end</beam>')\n",
    "                        beam = 0\n",
    "                        before_duration = duration\n",
    "\n",
    "                    note_xml_end = ('</note>\\n')\n",
    "\n",
    "                    note_xml += note_xml_beam\n",
    "                    note_xml += note_xml_end\n",
    "\n",
    "                    if measuring:\n",
    "                        measuring = False\n",
    "                        m_number += 1\n",
    "\n",
    "                        new_measure = ('</measure>\\n' + \n",
    "                                       '<measure number=\"' + str(m_number) + '\">\\n')\n",
    "                        note_xml += new_measure\n",
    "\n",
    "                    notes_xml += note_xml\n",
    "\n",
    "            before_note = note\n",
    "            duration = 1\n",
    "\n",
    "    if len(before_note) > 1:\n",
    "        steb = before_note[0]\n",
    "        octave = before_note[1]\n",
    "        note_xml = ('<note>\\n' +\n",
    "                        '<pitch>\\n' +\n",
    "                            '<step>' + steb + '</step>\\n' +\n",
    "                            '<octave>' + str(int(octave) + 1) + '</octave>\\n' +\n",
    "                        '</pitch>\\n' +\n",
    "                        '<duration>' + str(duration) + '</duration>\\n' +\n",
    "                        '<type>whole</type>\\n')\n",
    "\n",
    "        note_xml_beam = ''\n",
    "        if (duration > 0) and (duration < 3) and (duration == before_duration) and not measuring:\n",
    "            if beam == 0:\n",
    "                note_xml_beam += ('<beam number=\"1\">begin</beam>')\n",
    "                if duration < 2:\n",
    "                    note_xml_beam += ('<beam number=\"2\">begin</beam>')\n",
    "            else:\n",
    "                note_xml_beam += ('<beam number=\"1\">continue</beam>')\n",
    "                if duration < 2:\n",
    "                    note_xml_beam += ('<beam number=\"2\">continue</beam>')\n",
    "            beam += 1\n",
    "        elif (beam > 0) and (duration < 3) and (duration > 0):\n",
    "            note_xml_beam += ('<beam number=\"1\">end</beam>')\n",
    "            if duration < 2:\n",
    "                note_xml_beam += ('<beam number=\"2\">end</beam>')\n",
    "            beam = 0\n",
    "            before_duration = duration\n",
    "\n",
    "        note_xml_end = ('</note>\\n')\n",
    "\n",
    "        note_xml += note_xml_beam\n",
    "        note_xml += note_xml_end\n",
    "\n",
    "        if measuring:\n",
    "            measuring = False\n",
    "            m_number += 1\n",
    "\n",
    "            new_measure = ('</measure>\\n' + \n",
    "                           '<measure number=\"' + str(m_number) + '\">\\n')\n",
    "            note_xml += new_measure\n",
    "\n",
    "        notes_xml += note_xml\n",
    "\n",
    "    print(header + notes_xml + footer)\n",
    "\n",
    "    return header + notes_xml + footer"
   ]
  },
  {
   "cell_type": "code",
   "execution_count": 9,
   "metadata": {},
   "outputs": [],
   "source": [
    "a = [\"_\", \"A3\", \"A3\", \"A3\", \"B3\", \"B3\", \"C4\"]"
   ]
  },
  {
   "cell_type": "code",
   "execution_count": 10,
   "metadata": {},
   "outputs": [
    {
     "ename": "NameError",
     "evalue": "name 'conver' is not defined",
     "output_type": "error",
     "traceback": [
      "\u001b[0;31m---------------------------------------------------------------------------\u001b[0m",
      "\u001b[0;31mNameError\u001b[0m                                 Traceback (most recent call last)",
      "\u001b[0;32m<ipython-input-10-fb845b543a66>\u001b[0m in \u001b[0;36m<module>\u001b[0;34m()\u001b[0m\n\u001b[0;32m----> 1\u001b[0;31m \u001b[0mconver\u001b[0m\u001b[0;34m(\u001b[0m\u001b[0ma\u001b[0m\u001b[0;34m)\u001b[0m\u001b[0;34m\u001b[0m\u001b[0m\n\u001b[0m",
      "\u001b[0;31mNameError\u001b[0m: name 'conver' is not defined"
     ]
    }
   ],
   "source": [
    "conver(a)"
   ]
  },
  {
   "cell_type": "code",
   "execution_count": 11,
   "metadata": {},
   "outputs": [
    {
     "name": "stdout",
     "output_type": "stream",
     "text": [
      "<?xml version=\"1.0\" encoding=\"UTF-8\" standalone=\"no\"?>\n",
      "<!DOCTYPE score-partwise PUBLIC\n",
      "\"-//Recordare//DTD MusicXML 3.0 Partwise//EN\"\n",
      "\"http://www.musicxml.org/dtds/partwise.dtd\">\n",
      "<score-partwise version=\"3.0\">\n",
      "<part-list>\n",
      "<score-part id=\"P1\">\n",
      "<part-name>Music</part-name>\n",
      "</score-part>\n",
      "</part-list>\n",
      "<part id=\"P1\">\n",
      "<measure number=\"1\">\n",
      "<attributes>\n",
      "<divisions>4</divisions>\n",
      "<key>\n",
      "<fifths>0</fifths>\n",
      "</key>\n",
      "<time>\n",
      "<beats>4</beats>\n",
      "<beat-type>4</beat-type>\n",
      "</time>\n",
      "<clef>\n",
      "<sign>G</sign>\n",
      "<line>2</line>\n",
      "</clef>\n",
      "</attributes>\n",
      "<note>\n",
      "<pitch>\n",
      "<step>A</step>\n",
      "<octave>4</octave>\n",
      "</pitch>\n",
      "<duration>3</duration>\n",
      "<type>whole</type>\n",
      "</note>\n",
      "<note>\n",
      "<pitch>\n",
      "<step>B</step>\n",
      "<octave>4</octave>\n",
      "</pitch>\n",
      "<duration>2</duration>\n",
      "<type>whole</type>\n",
      "</note>\n",
      "<note>\n",
      "<pitch>\n",
      "<step>C</step>\n",
      "<octave>5</octave>\n",
      "</pitch>\n",
      "<duration>1</duration>\n",
      "<type>whole</type>\n",
      "</note>\n",
      "</measure>\n",
      "</part>\n",
      "</score-partwise>\"\n"
     ]
    },
    {
     "data": {
      "text/plain": [
       "'<?xml version=\"1.0\" encoding=\"UTF-8\" standalone=\"no\"?>\\n<!DOCTYPE score-partwise PUBLIC\\n\"-//Recordare//DTD MusicXML 3.0 Partwise//EN\"\\n\"http://www.musicxml.org/dtds/partwise.dtd\">\\n<score-partwise version=\"3.0\">\\n<part-list>\\n<score-part id=\"P1\">\\n<part-name>Music</part-name>\\n</score-part>\\n</part-list>\\n<part id=\"P1\">\\n<measure number=\"1\">\\n<attributes>\\n<divisions>4</divisions>\\n<key>\\n<fifths>0</fifths>\\n</key>\\n<time>\\n<beats>4</beats>\\n<beat-type>4</beat-type>\\n</time>\\n<clef>\\n<sign>G</sign>\\n<line>2</line>\\n</clef>\\n</attributes>\\n<note>\\n<pitch>\\n<step>A</step>\\n<octave>4</octave>\\n</pitch>\\n<duration>3</duration>\\n<type>whole</type>\\n</note>\\n<note>\\n<pitch>\\n<step>B</step>\\n<octave>4</octave>\\n</pitch>\\n<duration>2</duration>\\n<type>whole</type>\\n</note>\\n<note>\\n<pitch>\\n<step>C</step>\\n<octave>5</octave>\\n</pitch>\\n<duration>1</duration>\\n<type>whole</type>\\n</note>\\n</measure>\\n</part>\\n</score-partwise>\"'"
      ]
     },
     "execution_count": 11,
     "metadata": {},
     "output_type": "execute_result"
    }
   ],
   "source": [
    "convert(a)"
   ]
  },
  {
   "cell_type": "code",
   "execution_count": null,
   "metadata": {},
   "outputs": [],
   "source": []
  }
 ],
 "metadata": {
  "kernelspec": {
   "display_name": "Python 3",
   "language": "python",
   "name": "python3"
  },
  "language_info": {
   "codemirror_mode": {
    "name": "ipython",
    "version": 3
   },
   "file_extension": ".py",
   "mimetype": "text/x-python",
   "name": "python",
   "nbconvert_exporter": "python",
   "pygments_lexer": "ipython3",
   "version": "3.6.4"
  }
 },
 "nbformat": 4,
 "nbformat_minor": 2
}
